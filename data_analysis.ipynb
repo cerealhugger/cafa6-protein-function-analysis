{
 "cells": [
  {
   "cell_type": "markdown",
   "id": "9885e01a",
   "metadata": {},
   "source": [
    "# Setup & Imports"
   ]
  },
  {
   "cell_type": "code",
   "execution_count": 3,
   "id": "b5b2c8b2",
   "metadata": {},
   "outputs": [
    {
     "name": "stdout",
     "output_type": "stream",
     "text": [
      "Note: you may need to restart the kernel to use updated packages.\n"
     ]
    }
   ],
   "source": [
    "# 📦 Install dependencies\n",
    "# Run this cell once to make sure all required packages are available\n",
    "\n",
    "%pip install -q pandas numpy biopython matplotlib seaborn tqdm goatools plotly umap-learn scikit-learn torch transformers\n"
   ]
  },
  {
   "cell_type": "code",
   "execution_count": 4,
   "id": "0afe66ec",
   "metadata": {},
   "outputs": [],
   "source": [
    "# Standard libraries\n",
    "import os\n",
    "import pandas as pd\n",
    "import numpy as np\n",
    "from tqdm import tqdm\n",
    "\n",
    "# Visualization\n",
    "import matplotlib.pyplot as plt\n",
    "import seaborn as sns\n",
    "\n",
    "# Bioinformatics\n",
    "from Bio import SeqIO\n",
    "from Bio.SeqUtils.ProtParam import ProteinAnalysis\n",
    "\n",
    "# GO Ontology\n",
    "from goatools.obo_parser import GODag\n"
   ]
  },
  {
   "cell_type": "markdown",
   "id": "880fbdde",
   "metadata": {},
   "source": [
    "# 🧠 Explore Dataset Size and Structure\n",
    "\n",
    "- Count the number of sequences in:\n",
    "\n",
    "    - train_sequences.fasta\n",
    "\n",
    "    - testsuperset.fasta\n",
    "\n",
    "- Count unique proteins in train_terms.tsv and train_taxonomy.tsv\n",
    "\n",
    "- Check if all sequence IDs match across files.\n",
    "\n",
    "👉 Goal: Ensure internal consistency between FASTA, taxonomy, and term mapping files."
   ]
  },
  {
   "cell_type": "code",
   "execution_count": null,
   "id": "7f0b415b",
   "metadata": {},
   "outputs": [],
   "source": []
  },
  {
   "cell_type": "code",
   "execution_count": null,
   "id": "d7905e86",
   "metadata": {},
   "outputs": [],
   "source": []
  }
 ],
 "metadata": {
  "kernelspec": {
   "display_name": "base",
   "language": "python",
   "name": "python3"
  },
  "language_info": {
   "codemirror_mode": {
    "name": "ipython",
    "version": 3
   },
   "file_extension": ".py",
   "mimetype": "text/x-python",
   "name": "python",
   "nbconvert_exporter": "python",
   "pygments_lexer": "ipython3",
   "version": "3.12.2"
  }
 },
 "nbformat": 4,
 "nbformat_minor": 5
}
