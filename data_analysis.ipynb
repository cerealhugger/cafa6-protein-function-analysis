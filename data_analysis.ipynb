{
 "cells": [
  {
   "cell_type": "markdown",
   "id": "9885e01a",
   "metadata": {},
   "source": [
    "# Setup & Imports"
   ]
  },
  {
   "cell_type": "code",
   "execution_count": 3,
   "id": "b5b2c8b2",
   "metadata": {},
   "outputs": [
    {
     "name": "stdout",
     "output_type": "stream",
     "text": [
      "Note: you may need to restart the kernel to use updated packages.\n"
     ]
    }
   ],
   "source": [
    "# 📦 Install dependencies\n",
    "# Run this cell once to make sure all required packages are available\n",
    "\n",
    "%pip install -q pandas numpy biopython matplotlib seaborn tqdm goatools plotly umap-learn scikit-learn torch transformers\n"
   ]
  },
  {
   "cell_type": "code",
   "execution_count": 4,
   "id": "0afe66ec",
   "metadata": {},
   "outputs": [],
   "source": [
    "# Standard libraries\n",
    "import os\n",
    "import pandas as pd\n",
    "import numpy as np\n",
    "from tqdm import tqdm\n",
    "\n",
    "# Visualization\n",
    "import matplotlib.pyplot as plt\n",
    "import seaborn as sns\n",
    "\n",
    "# Bioinformatics\n",
    "from Bio import SeqIO\n",
    "from Bio.SeqUtils.ProtParam import ProteinAnalysis\n",
    "\n",
    "# GO Ontology\n",
    "from goatools.obo_parser import GODag\n"
   ]
  },
  {
   "cell_type": "code",
   "execution_count": 5,
   "id": "9170aebc",
   "metadata": {},
   "outputs": [
    {
     "name": "stdout",
     "output_type": "stream",
     "text": [
      "Files in Train: ['train_taxonomy.tsv', 'train_terms.tsv', 'go-basic.obo', 'train_sequences.fasta']\n",
      "Files in Test: ['testsuperset.fasta', 'testsuperset-taxon-list.tsv']\n"
     ]
    }
   ],
   "source": [
    "# Define data paths\n",
    "DATA_DIR = \"./cafa-6-protein-function-prediction\"\n",
    "TRAIN_DIR = os.path.join(DATA_DIR, \"Train\")\n",
    "TEST_DIR = os.path.join(DATA_DIR, \"Test\")\n",
    "\n",
    "print(\"Files in Train:\", os.listdir(TRAIN_DIR))\n",
    "print(\"Files in Test:\", os.listdir(TEST_DIR))\n"
   ]
  },
  {
   "cell_type": "markdown",
   "id": "880fbdde",
   "metadata": {},
   "source": [
    "# 🧠 Explore Dataset Size and Structure\n",
    "\n",
    "- Count the number of sequences in:\n",
    "\n",
    "    - train_sequences.fasta\n",
    "\n",
    "    - testsuperset.fasta\n",
    "\n",
    "- Count unique proteins in train_terms.tsv and train_taxonomy.tsv\n",
    "\n",
    "- Check if all sequence IDs match across files.\n",
    "\n",
    "👉 Goal: Ensure internal consistency between FASTA, taxonomy, and term mapping files."
   ]
  },
  {
   "cell_type": "code",
   "execution_count": 18,
   "id": "d7905e86",
   "metadata": {},
   "outputs": [
    {
     "name": "stdout",
     "output_type": "stream",
     "text": [
      "train_terms: (537027, 3)\n",
      "train_taxonomy: (82404, 2)\n",
      "IA: (40122, 2)\n"
     ]
    }
   ],
   "source": [
    "# Load TSV files\n",
    "train_terms = pd.read_csv(os.path.join(TRAIN_DIR, \"train_terms.tsv\"), sep=\"\\t\")\n",
    "train_taxonomy = pd.read_csv(\n",
    "    os.path.join(TRAIN_DIR, \"train_taxonomy.tsv\"),\n",
    "    sep=\"\\t\",\n",
    "    header=None,\n",
    "    names=[\"EntryID\", \"Taxon\"]\n",
    ")\n",
    "\n",
    "IA = pd.read_csv(\n",
    "    os.path.join(DATA_DIR, \"IA.tsv\"),\n",
    "    sep=\"\\t\",\n",
    "    header=None,\n",
    "    names=[\"GO_ID\", \"InformationAccretion\"]\n",
    ")\n",
    "\n",
    "\n",
    "print(\"train_terms:\", train_terms.shape)\n",
    "print(\"train_taxonomy:\", train_taxonomy.shape)\n",
    "print(\"IA:\", IA.shape)\n"
   ]
  },
  {
   "cell_type": "code",
   "execution_count": 13,
   "id": "227152f3",
   "metadata": {},
   "outputs": [
    {
     "data": {
      "text/html": [
       "<div>\n",
       "<style scoped>\n",
       "    .dataframe tbody tr th:only-of-type {\n",
       "        vertical-align: middle;\n",
       "    }\n",
       "\n",
       "    .dataframe tbody tr th {\n",
       "        vertical-align: top;\n",
       "    }\n",
       "\n",
       "    .dataframe thead th {\n",
       "        text-align: right;\n",
       "    }\n",
       "</style>\n",
       "<table border=\"1\" class=\"dataframe\">\n",
       "  <thead>\n",
       "    <tr style=\"text-align: right;\">\n",
       "      <th></th>\n",
       "      <th>EntryID</th>\n",
       "      <th>term</th>\n",
       "      <th>aspect</th>\n",
       "    </tr>\n",
       "  </thead>\n",
       "  <tbody>\n",
       "    <tr>\n",
       "      <th>0</th>\n",
       "      <td>Q5W0B1</td>\n",
       "      <td>GO:0000785</td>\n",
       "      <td>C</td>\n",
       "    </tr>\n",
       "    <tr>\n",
       "      <th>1</th>\n",
       "      <td>Q5W0B1</td>\n",
       "      <td>GO:0004842</td>\n",
       "      <td>F</td>\n",
       "    </tr>\n",
       "    <tr>\n",
       "      <th>2</th>\n",
       "      <td>Q5W0B1</td>\n",
       "      <td>GO:0051865</td>\n",
       "      <td>P</td>\n",
       "    </tr>\n",
       "    <tr>\n",
       "      <th>3</th>\n",
       "      <td>Q5W0B1</td>\n",
       "      <td>GO:0006275</td>\n",
       "      <td>P</td>\n",
       "    </tr>\n",
       "    <tr>\n",
       "      <th>4</th>\n",
       "      <td>Q5W0B1</td>\n",
       "      <td>GO:0006513</td>\n",
       "      <td>P</td>\n",
       "    </tr>\n",
       "  </tbody>\n",
       "</table>\n",
       "</div>"
      ],
      "text/plain": [
       "  EntryID        term aspect\n",
       "0  Q5W0B1  GO:0000785      C\n",
       "1  Q5W0B1  GO:0004842      F\n",
       "2  Q5W0B1  GO:0051865      P\n",
       "3  Q5W0B1  GO:0006275      P\n",
       "4  Q5W0B1  GO:0006513      P"
      ]
     },
     "metadata": {},
     "output_type": "display_data"
    },
    {
     "data": {
      "text/html": [
       "<div>\n",
       "<style scoped>\n",
       "    .dataframe tbody tr th:only-of-type {\n",
       "        vertical-align: middle;\n",
       "    }\n",
       "\n",
       "    .dataframe tbody tr th {\n",
       "        vertical-align: top;\n",
       "    }\n",
       "\n",
       "    .dataframe thead th {\n",
       "        text-align: right;\n",
       "    }\n",
       "</style>\n",
       "<table border=\"1\" class=\"dataframe\">\n",
       "  <thead>\n",
       "    <tr style=\"text-align: right;\">\n",
       "      <th></th>\n",
       "      <th>EntryID</th>\n",
       "      <th>Taxon</th>\n",
       "    </tr>\n",
       "  </thead>\n",
       "  <tbody>\n",
       "    <tr>\n",
       "      <th>0</th>\n",
       "      <td>A0A0C5B5G6</td>\n",
       "      <td>9606</td>\n",
       "    </tr>\n",
       "    <tr>\n",
       "      <th>1</th>\n",
       "      <td>A0JNW5</td>\n",
       "      <td>9606</td>\n",
       "    </tr>\n",
       "    <tr>\n",
       "      <th>2</th>\n",
       "      <td>A0JP26</td>\n",
       "      <td>9606</td>\n",
       "    </tr>\n",
       "    <tr>\n",
       "      <th>3</th>\n",
       "      <td>A0PK11</td>\n",
       "      <td>9606</td>\n",
       "    </tr>\n",
       "    <tr>\n",
       "      <th>4</th>\n",
       "      <td>A1A4S6</td>\n",
       "      <td>9606</td>\n",
       "    </tr>\n",
       "  </tbody>\n",
       "</table>\n",
       "</div>"
      ],
      "text/plain": [
       "      EntryID  Taxon\n",
       "0  A0A0C5B5G6   9606\n",
       "1      A0JNW5   9606\n",
       "2      A0JP26   9606\n",
       "3      A0PK11   9606\n",
       "4      A1A4S6   9606"
      ]
     },
     "metadata": {},
     "output_type": "display_data"
    },
    {
     "data": {
      "text/html": [
       "<div>\n",
       "<style scoped>\n",
       "    .dataframe tbody tr th:only-of-type {\n",
       "        vertical-align: middle;\n",
       "    }\n",
       "\n",
       "    .dataframe tbody tr th {\n",
       "        vertical-align: top;\n",
       "    }\n",
       "\n",
       "    .dataframe thead th {\n",
       "        text-align: right;\n",
       "    }\n",
       "</style>\n",
       "<table border=\"1\" class=\"dataframe\">\n",
       "  <thead>\n",
       "    <tr style=\"text-align: right;\">\n",
       "      <th></th>\n",
       "      <th>GO_ID</th>\n",
       "      <th>InformationAccretion</th>\n",
       "    </tr>\n",
       "  </thead>\n",
       "  <tbody>\n",
       "    <tr>\n",
       "      <th>0</th>\n",
       "      <td>GO:0000001</td>\n",
       "      <td>0.000000</td>\n",
       "    </tr>\n",
       "    <tr>\n",
       "      <th>1</th>\n",
       "      <td>GO:0000002</td>\n",
       "      <td>2.849666</td>\n",
       "    </tr>\n",
       "    <tr>\n",
       "      <th>2</th>\n",
       "      <td>GO:0000011</td>\n",
       "      <td>0.137504</td>\n",
       "    </tr>\n",
       "    <tr>\n",
       "      <th>3</th>\n",
       "      <td>GO:0000012</td>\n",
       "      <td>6.038630</td>\n",
       "    </tr>\n",
       "    <tr>\n",
       "      <th>4</th>\n",
       "      <td>GO:0000017</td>\n",
       "      <td>0.514573</td>\n",
       "    </tr>\n",
       "  </tbody>\n",
       "</table>\n",
       "</div>"
      ],
      "text/plain": [
       "        GO_ID  InformationAccretion\n",
       "0  GO:0000001              0.000000\n",
       "1  GO:0000002              2.849666\n",
       "2  GO:0000011              0.137504\n",
       "3  GO:0000012              6.038630\n",
       "4  GO:0000017              0.514573"
      ]
     },
     "metadata": {},
     "output_type": "display_data"
    }
   ],
   "source": [
    "# Preview first few rows\n",
    "display(train_terms.head())\n",
    "display(train_taxonomy.head())\n",
    "display(IA.head())\n"
   ]
  },
  {
   "cell_type": "markdown",
   "id": "03db77c6",
   "metadata": {},
   "source": [
    "### Count and Check Data Consistency"
   ]
  },
  {
   "cell_type": "code",
   "execution_count": 19,
   "id": "29e31b7e",
   "metadata": {},
   "outputs": [
    {
     "name": "stdout",
     "output_type": "stream",
     "text": [
      "Sequences: 82404 | Terms: 82404 | Taxonomy: 82404\n",
      "Unmatched IDs (terms not in sequences): 0\n"
     ]
    }
   ],
   "source": [
    "fasta_path = os.path.join(TRAIN_DIR, \"train_sequences.fasta\")\n",
    "#  Unique protein IDs\n",
    "def extract_uniprot_id(record_id):\n",
    "    # e.g. \"sp|Q9Y2Q0|ABC1_HUMAN\" → \"Q9Y2Q0\"\n",
    "    parts = record_id.split('|')\n",
    "    if len(parts) >= 2:\n",
    "        return parts[1]\n",
    "    return record_id  # fallback if no pipe present\n",
    "\n",
    "train_seq_ids = {extract_uniprot_id(record.id) for record in SeqIO.parse(fasta_path, \"fasta\")}\n",
    "term_ids = set(train_terms['EntryID'])\n",
    "tax_ids = set(train_taxonomy['EntryID'])\n",
    "\n",
    "print(f\"Sequences: {len(train_seq_ids)} | Terms: {len(term_ids)} | Taxonomy: {len(tax_ids)}\")\n",
    "print(\"Unmatched IDs (terms not in sequences):\", len(term_ids - train_seq_ids))"
   ]
  },
  {
   "cell_type": "markdown",
   "id": "e63bdf18",
   "metadata": {},
   "source": [
    "### Sequence Length Distribution"
   ]
  },
  {
   "cell_type": "code",
   "execution_count": 21,
   "id": "8a776751",
   "metadata": {},
   "outputs": [
    {
     "data": {
      "image/png": "[encoded data removed]",
      "text/plain": [
       "<Figure size 640x480 with 1 Axes>"
      ]
     },
     "metadata": {},
     "output_type": "display_data"
    }
   ],
   "source": [
    "seq_lengths = [len(record.seq) for record in SeqIO.parse(fasta_path, \"fasta\")]\n",
    "sns.histplot(seq_lengths, bins=50)\n",
    "plt.xlabel(\"Sequence Length\")\n",
    "plt.ylabel(\"Count\")\n",
    "plt.title(\"Distribution of Protein Sequence Lengths\")\n",
    "plt.show()\n"
   ]
  },
  {
   "cell_type": "markdown",
   "id": "bb1ffa03",
   "metadata": {},
   "source": [
    "The histogram is extremely right-skewed — most proteins have short sequences (clustered near the left), and a few are very long (creating a “long tail”)."
   ]
  },
  {
   "cell_type": "markdown",
   "id": "54aca7d8",
   "metadata": {},
   "source": [
    "### Plotting After Remove statistical outliers"
   ]
  },
  {
   "cell_type": "code",
   "execution_count": 24,
   "id": "749ce3f0",
   "metadata": {},
   "outputs": [
    {
     "data": {
      "image/png": "[encoded data removed]",
      "text/plain": [
       "<Figure size 640x480 with 1 Axes>"
      ]
     },
     "metadata": {},
     "output_type": "display_data"
    }
   ],
   "source": [
    "import numpy as np\n",
    "\n",
    "lengths = np.array(seq_lengths)\n",
    "filtered_lengths = lengths[lengths < np.percentile(lengths, 99)]  # keep 99% shortest\n",
    "\n",
    "sns.histplot(filtered_lengths, bins=100)\n",
    "plt.xlabel(\"Sequence Length (99% quantile)\")\n",
    "plt.ylabel(\"Count\")\n",
    "plt.title(\"Protein Sequence Lengths (Outliers Removed)\")\n",
    "plt.show()\n"
   ]
  },
  {
   "cell_type": "markdown",
   "id": "46e3d712",
   "metadata": {},
   "source": [
    "### Overview for Sequence Distribution"
   ]
  },
  {
   "cell_type": "code",
   "execution_count": 27,
   "id": "b079935a",
   "metadata": {},
   "outputs": [
    {
     "name": "stdout",
     "output_type": "stream",
     "text": [
      "Min length: 3\n",
      "Median length: 409.0\n",
      "Mean length: 525.7882869763604\n",
      "95th percentile: 1318.0\n",
      "Max length: 35213\n"
     ]
    }
   ],
   "source": [
    "print(\"Min length:\", np.min(seq_lengths))\n",
    "print(\"Median length:\", np.median(seq_lengths))\n",
    "print(\"Mean length:\", np.mean(seq_lengths))\n",
    "print(\"95th percentile:\", np.percentile(seq_lengths, 95))\n",
    "print(\"Max length:\", np.max(seq_lengths))"
   ]
  },
  {
   "cell_type": "markdown",
   "id": "95952284",
   "metadata": {},
   "source": [
    "## Number of GO Terms per Protein"
   ]
  },
  {
   "cell_type": "code",
   "execution_count": 26,
   "id": "d17d2660",
   "metadata": {},
   "outputs": [
    {
     "data": {
      "image/png": "[encoded data removed]",
      "text/plain": [
       "<Figure size 640x480 with 1 Axes>"
      ]
     },
     "metadata": {},
     "output_type": "display_data"
    }
   ],
   "source": [
    "go_counts = train_terms.groupby('EntryID')['term'].count()\n",
    "sns.histplot(go_counts, bins=50)\n",
    "plt.xlabel(\"Number of GO terms per protein\")\n",
    "plt.ylabel(\"Count\")\n",
    "plt.title(\"GO Term Distribution\")\n",
    "plt.show()\n"
   ]
  },
  {
   "cell_type": "code",
   "execution_count": 29,
   "id": "8c063e34",
   "metadata": {},
   "outputs": [
    {
     "name": "stdout",
     "output_type": "stream",
     "text": [
      "Min length: 1\n",
      "Median length: 4.0\n",
      "Mean length: 6.517001601863988\n",
      "95th percentile: 20.0\n",
      "Max length: 233\n",
      "Number of proteins with 233 GO terms: 1\n",
      "EntryID\n",
      "Q02248    233\n",
      "Name: term, dtype: int64\n"
     ]
    }
   ],
   "source": [
    "print(\"Min length:\", np.min(go_counts))\n",
    "print(\"Median length:\", np.median(go_counts))\n",
    "print(\"Mean length:\", np.mean(go_counts))\n",
    "print(\"95th percentile:\", np.percentile(go_counts, 95))\n",
    "print(\"Max length:\", np.max(go_counts))\n",
    "# Find the protein with the highest number of GO terms\n",
    "max_go_count = go_counts.max()\n",
    "top_proteins = go_counts[go_counts == max_go_count]\n",
    "print(f\"Number of proteins with {max_go_count} GO terms: {len(top_proteins)}\")\n",
    "print(top_proteins)\n"
   ]
  },
  {
   "cell_type": "code",
   "execution_count": null,
   "id": "1788c580",
   "metadata": {},
   "outputs": [],
   "source": []
  }
 ],
 "metadata": {
  "kernelspec": {
   "display_name": "base",
   "language": "python",
   "name": "python3"
  },
  "language_info": {
   "codemirror_mode": {
    "name": "ipython",
    "version": 3
   },
   "file_extension": ".py",
   "mimetype": "text/x-python",
   "name": "python",
   "nbconvert_exporter": "python",
   "pygments_lexer": "ipython3",
   "version": "3.12.2"
  }
 },
 "nbformat": 4,
 "nbformat_minor": 5
}
