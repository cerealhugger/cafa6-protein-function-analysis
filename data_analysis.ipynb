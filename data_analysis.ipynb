{
 "cells": [
  {
   "cell_type": "markdown",
   "id": "9885e01a",
   "metadata": {},
   "source": [
    "# Setup & Imports"
   ]
  },
  {
   "cell_type": "code",
   "execution_count": 3,
   "id": "b5b2c8b2",
   "metadata": {},
   "outputs": [
    {
     "name": "stdout",
     "output_type": "stream",
     "text": [
      "Note: you may need to restart the kernel to use updated packages.\n"
     ]
    }
   ],
   "source": [
    "# 📦 Install dependencies\n",
    "# Run this cell once to make sure all required packages are available\n",
    "\n",
    "%pip install -q pandas numpy biopython matplotlib seaborn tqdm goatools plotly umap-learn scikit-learn torch transformers\n"
   ]
  },
  {
   "cell_type": "code",
   "execution_count": 4,
   "id": "0afe66ec",
   "metadata": {},
   "outputs": [],
   "source": [
    "# Standard libraries\n",
    "import os\n",
    "import pandas as pd\n",
    "import numpy as np\n",
    "from tqdm import tqdm\n",
    "\n",
    "# Visualization\n",
    "import matplotlib.pyplot as plt\n",
    "import seaborn as sns\n",
    "\n",
    "# Bioinformatics\n",
    "from Bio import SeqIO\n",
    "from Bio.SeqUtils.ProtParam import ProteinAnalysis\n",
    "\n",
    "# GO Ontology\n",
    "from goatools.obo_parser import GODag\n"
   ]
  },
  {
   "cell_type": "code",
   "execution_count": 5,
   "id": "9170aebc",
   "metadata": {},
   "outputs": [
    {
     "name": "stdout",
     "output_type": "stream",
     "text": [
      "Files in Train: ['train_taxonomy.tsv', 'train_terms.tsv', 'go-basic.obo', 'train_sequences.fasta']\n",
      "Files in Test: ['testsuperset.fasta', 'testsuperset-taxon-list.tsv']\n"
     ]
    }
   ],
   "source": [
    "# Define data paths\n",
    "DATA_DIR = \"./cafa-6-protein-function-prediction\"\n",
    "TRAIN_DIR = os.path.join(DATA_DIR, \"Train\")\n",
    "TEST_DIR = os.path.join(DATA_DIR, \"Test\")\n",
    "\n",
    "print(\"Files in Train:\", os.listdir(TRAIN_DIR))\n",
    "print(\"Files in Test:\", os.listdir(TEST_DIR))\n"
   ]
  },
  {
   "cell_type": "markdown",
   "id": "880fbdde",
   "metadata": {},
   "source": [
    "# 🧠 Explore Dataset Size and Structure\n",
    "\n",
    "- Count the number of sequences in:\n",
    "\n",
    "    - train_sequences.fasta\n",
    "\n",
    "    - testsuperset.fasta\n",
    "\n",
    "- Count unique proteins in train_terms.tsv and train_taxonomy.tsv\n",
    "\n",
    "- Check if all sequence IDs match across files.\n",
    "\n",
    "👉 Goal: Ensure internal consistency between FASTA, taxonomy, and term mapping files."
   ]
  },
  {
   "cell_type": "code",
   "execution_count": 18,
   "id": "d7905e86",
   "metadata": {},
   "outputs": [
    {
     "name": "stdout",
     "output_type": "stream",
     "text": [
      "train_terms: (537027, 3)\n",
      "train_taxonomy: (82404, 2)\n",
      "IA: (40122, 2)\n"
     ]
    }
   ],
   "source": [
    "# Load TSV files\n",
    "train_terms = pd.read_csv(os.path.join(TRAIN_DIR, \"train_terms.tsv\"), sep=\"\\t\")\n",
    "train_taxonomy = pd.read_csv(\n",
    "    os.path.join(TRAIN_DIR, \"train_taxonomy.tsv\"),\n",
    "    sep=\"\\t\",\n",
    "    header=None,\n",
    "    names=[\"EntryID\", \"Taxon\"]\n",
    ")\n",
    "\n",
    "IA = pd.read_csv(\n",
    "    os.path.join(DATA_DIR, \"IA.tsv\"),\n",
    "    sep=\"\\t\",\n",
    "    header=None,\n",
    "    names=[\"GO_ID\", \"InformationAccretion\"]\n",
    ")\n",
    "\n",
    "\n",
    "print(\"train_terms:\", train_terms.shape)\n",
    "print(\"train_taxonomy:\", train_taxonomy.shape)\n",
    "print(\"IA:\", IA.shape)\n"
   ]
  },
  {
   "cell_type": "code",
   "execution_count": 13,
   "id": "227152f3",
   "metadata": {},
   "outputs": [
    {
     "data": {
      "text/html": [
       "<div>\n",
       "<style scoped>\n",
       "    .dataframe tbody tr th:only-of-type {\n",
       "        vertical-align: middle;\n",
       "    }\n",
       "\n",
       "    .dataframe tbody tr th {\n",
       "        vertical-align: top;\n",
       "    }\n",
       "\n",
       "    .dataframe thead th {\n",
       "        text-align: right;\n",
       "    }\n",
       "</style>\n",
       "<table border=\"1\" class=\"dataframe\">\n",
       "  <thead>\n",
       "    <tr style=\"text-align: right;\">\n",
       "      <th></th>\n",
       "      <th>EntryID</th>\n",
       "      <th>term</th>\n",
       "      <th>aspect</th>\n",
       "    </tr>\n",
       "  </thead>\n",
       "  <tbody>\n",
       "    <tr>\n",
       "      <th>0</th>\n",
       "      <td>Q5W0B1</td>\n",
       "      <td>GO:0000785</td>\n",
       "      <td>C</td>\n",
       "    </tr>\n",
       "    <tr>\n",
       "      <th>1</th>\n",
       "      <td>Q5W0B1</td>\n",
       "      <td>GO:0004842</td>\n",
       "      <td>F</td>\n",
       "    </tr>\n",
       "    <tr>\n",
       "      <th>2</th>\n",
       "      <td>Q5W0B1</td>\n",
       "      <td>GO:0051865</td>\n",
       "      <td>P</td>\n",
       "    </tr>\n",
       "    <tr>\n",
       "      <th>3</th>\n",
       "      <td>Q5W0B1</td>\n",
       "      <td>GO:0006275</td>\n",
       "      <td>P</td>\n",
       "    </tr>\n",
       "    <tr>\n",
       "      <th>4</th>\n",
       "      <td>Q5W0B1</td>\n",
       "      <td>GO:0006513</td>\n",
       "      <td>P</td>\n",
       "    </tr>\n",
       "  </tbody>\n",
       "</table>\n",
       "</div>"
      ],
      "text/plain": [
       "  EntryID        term aspect\n",
       "0  Q5W0B1  GO:0000785      C\n",
       "1  Q5W0B1  GO:0004842      F\n",
       "2  Q5W0B1  GO:0051865      P\n",
       "3  Q5W0B1  GO:0006275      P\n",
       "4  Q5W0B1  GO:0006513      P"
      ]
     },
     "metadata": {},
     "output_type": "display_data"
    },
    {
     "data": {
      "text/html": [
       "<div>\n",
       "<style scoped>\n",
       "    .dataframe tbody tr th:only-of-type {\n",
       "        vertical-align: middle;\n",
       "    }\n",
       "\n",
       "    .dataframe tbody tr th {\n",
       "        vertical-align: top;\n",
       "    }\n",
       "\n",
       "    .dataframe thead th {\n",
       "        text-align: right;\n",
       "    }\n",
       "</style>\n",
       "<table border=\"1\" class=\"dataframe\">\n",
       "  <thead>\n",
       "    <tr style=\"text-align: right;\">\n",
       "      <th></th>\n",
       "      <th>EntryID</th>\n",
       "      <th>Taxon</th>\n",
       "    </tr>\n",
       "  </thead>\n",
       "  <tbody>\n",
       "    <tr>\n",
       "      <th>0</th>\n",
       "      <td>A0A0C5B5G6</td>\n",
       "      <td>9606</td>\n",
       "    </tr>\n",
       "    <tr>\n",
       "      <th>1</th>\n",
       "      <td>A0JNW5</td>\n",
       "      <td>9606</td>\n",
       "    </tr>\n",
       "    <tr>\n",
       "      <th>2</th>\n",
       "      <td>A0JP26</td>\n",
       "      <td>9606</td>\n",
       "    </tr>\n",
       "    <tr>\n",
       "      <th>3</th>\n",
       "      <td>A0PK11</td>\n",
       "      <td>9606</td>\n",
       "    </tr>\n",
       "    <tr>\n",
       "      <th>4</th>\n",
       "      <td>A1A4S6</td>\n",
       "      <td>9606</td>\n",
       "    </tr>\n",
       "  </tbody>\n",
       "</table>\n",
       "</div>"
      ],
      "text/plain": [
       "      EntryID  Taxon\n",
       "0  A0A0C5B5G6   9606\n",
       "1      A0JNW5   9606\n",
       "2      A0JP26   9606\n",
       "3      A0PK11   9606\n",
       "4      A1A4S6   9606"
      ]
     },
     "metadata": {},
     "output_type": "display_data"
    },
    {
     "data": {
      "text/html": [
       "<div>\n",
       "<style scoped>\n",
       "    .dataframe tbody tr th:only-of-type {\n",
       "        vertical-align: middle;\n",
       "    }\n",
       "\n",
       "    .dataframe tbody tr th {\n",
       "        vertical-align: top;\n",
       "    }\n",
       "\n",
       "    .dataframe thead th {\n",
       "        text-align: right;\n",
       "    }\n",
       "</style>\n",
       "<table border=\"1\" class=\"dataframe\">\n",
       "  <thead>\n",
       "    <tr style=\"text-align: right;\">\n",
       "      <th></th>\n",
       "      <th>GO_ID</th>\n",
       "      <th>InformationAccretion</th>\n",
       "    </tr>\n",
       "  </thead>\n",
       "  <tbody>\n",
       "    <tr>\n",
       "      <th>0</th>\n",
       "      <td>GO:0000001</td>\n",
       "      <td>0.000000</td>\n",
       "    </tr>\n",
       "    <tr>\n",
       "      <th>1</th>\n",
       "      <td>GO:0000002</td>\n",
       "      <td>2.849666</td>\n",
       "    </tr>\n",
       "    <tr>\n",
       "      <th>2</th>\n",
       "      <td>GO:0000011</td>\n",
       "      <td>0.137504</td>\n",
       "    </tr>\n",
       "    <tr>\n",
       "      <th>3</th>\n",
       "      <td>GO:0000012</td>\n",
       "      <td>6.038630</td>\n",
       "    </tr>\n",
       "    <tr>\n",
       "      <th>4</th>\n",
       "      <td>GO:0000017</td>\n",
       "      <td>0.514573</td>\n",
       "    </tr>\n",
       "  </tbody>\n",
       "</table>\n",
       "</div>"
      ],
      "text/plain": [
       "        GO_ID  InformationAccretion\n",
       "0  GO:0000001              0.000000\n",
       "1  GO:0000002              2.849666\n",
       "2  GO:0000011              0.137504\n",
       "3  GO:0000012              6.038630\n",
       "4  GO:0000017              0.514573"
      ]
     },
     "metadata": {},
     "output_type": "display_data"
    }
   ],
   "source": [
    "# Preview first few rows\n",
    "display(train_terms.head())\n",
    "display(train_taxonomy.head())\n",
    "display(IA.head())\n"
   ]
  },
  {
   "cell_type": "markdown",
   "id": "03db77c6",
   "metadata": {},
   "source": [
    "## Count and Check Data Consistency"
   ]
  },
  {
   "cell_type": "code",
   "execution_count": 19,
   "id": "29e31b7e",
   "metadata": {},
   "outputs": [
    {
     "name": "stdout",
     "output_type": "stream",
     "text": [
      "Sequences: 82404 | Terms: 82404 | Taxonomy: 82404\n",
      "Unmatched IDs (terms not in sequences): 0\n"
     ]
    }
   ],
   "source": [
    "fasta_path = os.path.join(TRAIN_DIR, \"train_sequences.fasta\")\n",
    "#  Unique protein IDs\n",
    "def extract_uniprot_id(record_id):\n",
    "    # e.g. \"sp|Q9Y2Q0|ABC1_HUMAN\" → \"Q9Y2Q0\"\n",
    "    parts = record_id.split('|')\n",
    "    if len(parts) >= 2:\n",
    "        return parts[1]\n",
    "    return record_id  # fallback if no pipe present\n",
    "\n",
    "train_seq_ids = {extract_uniprot_id(record.id) for record in SeqIO.parse(fasta_path, \"fasta\")}\n",
    "term_ids = set(train_terms['EntryID'])\n",
    "tax_ids = set(train_taxonomy['EntryID'])\n",
    "\n",
    "print(f\"Sequences: {len(train_seq_ids)} | Terms: {len(term_ids)} | Taxonomy: {len(tax_ids)}\")\n",
    "print(\"Unmatched IDs (terms not in sequences):\", len(term_ids - train_seq_ids))"
   ]
  },
  {
   "cell_type": "markdown",
   "id": "e63bdf18",
   "metadata": {},
   "source": [
    "### Sequence Length Distribution"
   ]
  },
  {
   "cell_type": "code",
   "execution_count": 21,
   "id": "8a776751",
   "metadata": {},
   "outputs": [
    {
     "data": {
      "image/png": "[encoded data removed]",
      "text/plain": [
       "<Figure size 640x480 with 1 Axes>"
      ]
     },
     "metadata": {},
     "output_type": "display_data"
    }
   ],
   "source": [
    "seq_lengths = [len(record.seq) for record in SeqIO.parse(fasta_path, \"fasta\")]\n",
    "sns.histplot(seq_lengths, bins=50)\n",
    "plt.xlabel(\"Sequence Length\")\n",
    "plt.ylabel(\"Count\")\n",
    "plt.title(\"Distribution of Protein Sequence Lengths\")\n",
    "plt.show()\n"
   ]
  },
  {
   "cell_type": "markdown",
   "id": "bb1ffa03",
   "metadata": {},
   "source": [
    "The histogram is extremely right-skewed — most proteins have short sequences (clustered near the left), and a few are very long (creating a “long tail”)."
   ]
  },
  {
   "cell_type": "markdown",
   "id": "54aca7d8",
   "metadata": {},
   "source": [
    "### Plotting After Remove statistical outliers"
   ]
  },
  {
   "cell_type": "code",
   "execution_count": 24,
   "id": "749ce3f0",
   "metadata": {},
   "outputs": [
    {
     "data": {
      "image/png": "[encoded data removed]",
      "text/plain": [
       "<Figure size 640x480 with 1 Axes>"
      ]
     },
     "metadata": {},
     "output_type": "display_data"
    }
   ],
   "source": [
    "import numpy as np\n",
    "\n",
    "lengths = np.array(seq_lengths)\n",
    "filtered_lengths = lengths[lengths < np.percentile(lengths, 99)]  # keep 99% shortest\n",
    "\n",
    "sns.histplot(filtered_lengths, bins=100)\n",
    "plt.xlabel(\"Sequence Length (99% quantile)\")\n",
    "plt.ylabel(\"Count\")\n",
    "plt.title(\"Protein Sequence Lengths (Outliers Removed)\")\n",
    "plt.show()\n"
   ]
  },
  {
   "cell_type": "markdown",
   "id": "46e3d712",
   "metadata": {},
   "source": [
    "### Overview for Sequence Distribution"
   ]
  },
  {
   "cell_type": "code",
   "execution_count": 27,
   "id": "b079935a",
   "metadata": {},
   "outputs": [
    {
     "name": "stdout",
     "output_type": "stream",
     "text": [
      "Min length: 3\n",
      "Median length: 409.0\n",
      "Mean length: 525.7882869763604\n",
      "95th percentile: 1318.0\n",
      "Max length: 35213\n"
     ]
    }
   ],
   "source": [
    "print(\"Min length:\", np.min(seq_lengths))\n",
    "print(\"Median length:\", np.median(seq_lengths))\n",
    "print(\"Mean length:\", np.mean(seq_lengths))\n",
    "print(\"95th percentile:\", np.percentile(seq_lengths, 95))\n",
    "print(\"Max length:\", np.max(seq_lengths))"
   ]
  },
  {
   "cell_type": "markdown",
   "id": "95952284",
   "metadata": {},
   "source": [
    "## Number of GO Terms per Protein"
   ]
  },
  {
   "cell_type": "code",
   "execution_count": 26,
   "id": "d17d2660",
   "metadata": {},
   "outputs": [
    {
     "data": {
      "image/png": "[encoded data removed]",
      "text/plain": [
       "<Figure size 640x480 with 1 Axes>"
      ]
     },
     "metadata": {},
     "output_type": "display_data"
    }
   ],
   "source": [
    "go_counts = train_terms.groupby('EntryID')['term'].count()\n",
    "sns.histplot(go_counts, bins=50)\n",
    "plt.xlabel(\"Number of GO terms per protein\")\n",
    "plt.ylabel(\"Count\")\n",
    "plt.title(\"GO Term Distribution\")\n",
    "plt.show()\n"
   ]
  },
  {
   "cell_type": "code",
   "execution_count": 31,
   "id": "8c063e34",
   "metadata": {},
   "outputs": [
    {
     "name": "stdout",
     "output_type": "stream",
     "text": [
      "Min length: 1\n",
      "Median length: 4.0\n",
      "Mean length: 6.517001601863988\n",
      "95th percentile: 20.0\n",
      "Max length: 233\n",
      "Number of proteins with 233 GO terms: 1\n",
      "EntryID\n",
      "Q02248    233\n",
      "Name: term, dtype: int64\n"
     ]
    }
   ],
   "source": [
    "print(\"Min length:\", np.min(go_counts))\n",
    "print(\"Median length:\", np.median(go_counts))\n",
    "print(\"Mean length:\", np.mean(go_counts))\n",
    "print(\"95th percentile:\", np.percentile(go_counts, 95))\n",
    "print(\"Max length:\", np.max(go_counts))\n",
    "\n",
    "# Find the protein with the highest number of GO terms\n",
    "max_go_count = go_counts.max()\n",
    "top_proteins = go_counts[go_counts == max_go_count]\n",
    "print(f\"Number of proteins with {max_go_count} GO terms: {len(top_proteins)}\")\n",
    "print(top_proteins)\n"
   ]
  },
  {
   "cell_type": "code",
   "execution_count": 44,
   "id": "2af3c8b9",
   "metadata": {},
   "outputs": [
    {
     "data": {
      "image/png": "[encoded data removed]",
      "text/plain": [
       "<Figure size 1000x500 with 1 Axes>"
      ]
     },
     "metadata": {},
     "output_type": "display_data"
    }
   ],
   "source": [
    "tax_counts = train_taxonomy['Taxon'].value_counts().head(20)\n",
    "plt.figure(figsize=(10,5))\n",
    "sns.barplot(x=tax_counts.index.astype(str), y=tax_counts.values)\n",
    "plt.xticks(rotation=90)\n",
    "plt.title(\"Top 20 Taxon IDs in Training Set\")\n",
    "plt.show()\n"
   ]
  },
  {
   "cell_type": "markdown",
   "id": "42bd01b8",
   "metadata": {},
   "source": [
    "# Feature Extraction"
   ]
  },
  {
   "cell_type": "markdown",
   "id": "d3a3a99d",
   "metadata": {},
   "source": [
    "### Correlation Between Sequence Length & GO Terms"
   ]
  },
  {
   "cell_type": "code",
   "execution_count": 57,
   "id": "98c5e5bb",
   "metadata": {},
   "outputs": [
    {
     "name": "stderr",
     "output_type": "stream",
     "text": [
      "100%|██████████| 100/100 [00:00<00:00, 41755.14it/s]\n"
     ]
    },
    {
     "data": {
      "text/html": [
       "<div>\n",
       "<style scoped>\n",
       "    .dataframe tbody tr th:only-of-type {\n",
       "        vertical-align: middle;\n",
       "    }\n",
       "\n",
       "    .dataframe tbody tr th {\n",
       "        vertical-align: top;\n",
       "    }\n",
       "\n",
       "    .dataframe thead th {\n",
       "        text-align: right;\n",
       "    }\n",
       "</style>\n",
       "<table border=\"1\" class=\"dataframe\">\n",
       "  <thead>\n",
       "    <tr style=\"text-align: right;\">\n",
       "      <th></th>\n",
       "      <th>id</th>\n",
       "      <th>length</th>\n",
       "      <th>A</th>\n",
       "      <th>C</th>\n",
       "      <th>D</th>\n",
       "      <th>E</th>\n",
       "      <th>F</th>\n",
       "      <th>G</th>\n",
       "      <th>H</th>\n",
       "      <th>I</th>\n",
       "      <th>...</th>\n",
       "      <th>M</th>\n",
       "      <th>N</th>\n",
       "      <th>P</th>\n",
       "      <th>Q</th>\n",
       "      <th>R</th>\n",
       "      <th>S</th>\n",
       "      <th>T</th>\n",
       "      <th>V</th>\n",
       "      <th>W</th>\n",
       "      <th>Y</th>\n",
       "    </tr>\n",
       "  </thead>\n",
       "  <tbody>\n",
       "    <tr>\n",
       "      <th>0</th>\n",
       "      <td>A0A0C5B5G6</td>\n",
       "      <td>16</td>\n",
       "      <td>0.000000</td>\n",
       "      <td>0.000000</td>\n",
       "      <td>0.000000</td>\n",
       "      <td>0.062500</td>\n",
       "      <td>0.062500</td>\n",
       "      <td>0.062500</td>\n",
       "      <td>0.000000</td>\n",
       "      <td>0.062500</td>\n",
       "      <td>...</td>\n",
       "      <td>0.125000</td>\n",
       "      <td>0.000000</td>\n",
       "      <td>0.062500</td>\n",
       "      <td>0.062500</td>\n",
       "      <td>0.187500</td>\n",
       "      <td>0.000000</td>\n",
       "      <td>0.000000</td>\n",
       "      <td>0.000000</td>\n",
       "      <td>0.062500</td>\n",
       "      <td>0.125000</td>\n",
       "    </tr>\n",
       "    <tr>\n",
       "      <th>1</th>\n",
       "      <td>A0JNW5</td>\n",
       "      <td>1464</td>\n",
       "      <td>0.049863</td>\n",
       "      <td>0.017077</td>\n",
       "      <td>0.060109</td>\n",
       "      <td>0.066940</td>\n",
       "      <td>0.035519</td>\n",
       "      <td>0.037568</td>\n",
       "      <td>0.032787</td>\n",
       "      <td>0.057377</td>\n",
       "      <td>...</td>\n",
       "      <td>0.023907</td>\n",
       "      <td>0.053279</td>\n",
       "      <td>0.045765</td>\n",
       "      <td>0.047814</td>\n",
       "      <td>0.034836</td>\n",
       "      <td>0.120902</td>\n",
       "      <td>0.058060</td>\n",
       "      <td>0.056011</td>\n",
       "      <td>0.008197</td>\n",
       "      <td>0.023907</td>\n",
       "    </tr>\n",
       "    <tr>\n",
       "      <th>2</th>\n",
       "      <td>A0JP26</td>\n",
       "      <td>581</td>\n",
       "      <td>0.053356</td>\n",
       "      <td>0.037866</td>\n",
       "      <td>0.063683</td>\n",
       "      <td>0.092943</td>\n",
       "      <td>0.015491</td>\n",
       "      <td>0.056799</td>\n",
       "      <td>0.034423</td>\n",
       "      <td>0.036145</td>\n",
       "      <td>...</td>\n",
       "      <td>0.030981</td>\n",
       "      <td>0.060241</td>\n",
       "      <td>0.027539</td>\n",
       "      <td>0.051635</td>\n",
       "      <td>0.049914</td>\n",
       "      <td>0.080895</td>\n",
       "      <td>0.037866</td>\n",
       "      <td>0.046472</td>\n",
       "      <td>0.008606</td>\n",
       "      <td>0.017212</td>\n",
       "    </tr>\n",
       "    <tr>\n",
       "      <th>3</th>\n",
       "      <td>A0PK11</td>\n",
       "      <td>232</td>\n",
       "      <td>0.107759</td>\n",
       "      <td>0.021552</td>\n",
       "      <td>0.021552</td>\n",
       "      <td>0.051724</td>\n",
       "      <td>0.064655</td>\n",
       "      <td>0.073276</td>\n",
       "      <td>0.021552</td>\n",
       "      <td>0.081897</td>\n",
       "      <td>...</td>\n",
       "      <td>0.017241</td>\n",
       "      <td>0.025862</td>\n",
       "      <td>0.030172</td>\n",
       "      <td>0.038793</td>\n",
       "      <td>0.025862</td>\n",
       "      <td>0.056034</td>\n",
       "      <td>0.030172</td>\n",
       "      <td>0.107759</td>\n",
       "      <td>0.021552</td>\n",
       "      <td>0.025862</td>\n",
       "    </tr>\n",
       "    <tr>\n",
       "      <th>4</th>\n",
       "      <td>A1A4S6</td>\n",
       "      <td>786</td>\n",
       "      <td>0.058524</td>\n",
       "      <td>0.013995</td>\n",
       "      <td>0.047074</td>\n",
       "      <td>0.090331</td>\n",
       "      <td>0.053435</td>\n",
       "      <td>0.049618</td>\n",
       "      <td>0.026718</td>\n",
       "      <td>0.045802</td>\n",
       "      <td>...</td>\n",
       "      <td>0.022901</td>\n",
       "      <td>0.044529</td>\n",
       "      <td>0.063613</td>\n",
       "      <td>0.043257</td>\n",
       "      <td>0.055980</td>\n",
       "      <td>0.080153</td>\n",
       "      <td>0.053435</td>\n",
       "      <td>0.052163</td>\n",
       "      <td>0.008906</td>\n",
       "      <td>0.021628</td>\n",
       "    </tr>\n",
       "  </tbody>\n",
       "</table>\n",
       "<p>5 rows × 22 columns</p>\n",
       "</div>"
      ],
      "text/plain": [
       "           id  length         A         C         D         E         F  \\\n",
       "0  A0A0C5B5G6      16  0.000000  0.000000  0.000000  0.062500  0.062500   \n",
       "1      A0JNW5    1464  0.049863  0.017077  0.060109  0.066940  0.035519   \n",
       "2      A0JP26     581  0.053356  0.037866  0.063683  0.092943  0.015491   \n",
       "3      A0PK11     232  0.107759  0.021552  0.021552  0.051724  0.064655   \n",
       "4      A1A4S6     786  0.058524  0.013995  0.047074  0.090331  0.053435   \n",
       "\n",
       "          G         H         I  ...         M         N         P         Q  \\\n",
       "0  0.062500  0.000000  0.062500  ...  0.125000  0.000000  0.062500  0.062500   \n",
       "1  0.037568  0.032787  0.057377  ...  0.023907  0.053279  0.045765  0.047814   \n",
       "2  0.056799  0.034423  0.036145  ...  0.030981  0.060241  0.027539  0.051635   \n",
       "3  0.073276  0.021552  0.081897  ...  0.017241  0.025862  0.030172  0.038793   \n",
       "4  0.049618  0.026718  0.045802  ...  0.022901  0.044529  0.063613  0.043257   \n",
       "\n",
       "          R         S         T         V         W         Y  \n",
       "0  0.187500  0.000000  0.000000  0.000000  0.062500  0.125000  \n",
       "1  0.034836  0.120902  0.058060  0.056011  0.008197  0.023907  \n",
       "2  0.049914  0.080895  0.037866  0.046472  0.008606  0.017212  \n",
       "3  0.025862  0.056034  0.030172  0.107759  0.021552  0.025862  \n",
       "4  0.055980  0.080153  0.053435  0.052163  0.008906  0.021628  \n",
       "\n",
       "[5 rows x 22 columns]"
      ]
     },
     "execution_count": 57,
     "metadata": {},
     "output_type": "execute_result"
    }
   ],
   "source": [
    "# Compute amino acid composition for first 100 sequences (as demo)\n",
    "records = list(SeqIO.parse(fasta_path, \"fasta\"))[:100]\n",
    "\n",
    "features = []\n",
    "for record in tqdm(records):\n",
    "    seq = str(record.seq)\n",
    "    analysis = ProteinAnalysis(seq)\n",
    "    aa_freq = analysis.get_amino_acids_percent()\n",
    "    features.append({\n",
    "        \"id\": extract_uniprot_id(record.id),\n",
    "        \"length\": len(seq),\n",
    "        **aa_freq\n",
    "    })\n",
    "\n",
    "aa_df = pd.DataFrame(features)\n",
    "aa_df.head()\n"
   ]
  },
  {
   "cell_type": "code",
   "execution_count": 58,
   "id": "03869b53",
   "metadata": {},
   "outputs": [
    {
     "data": {
      "text/html": [
       "<div>\n",
       "<style scoped>\n",
       "    .dataframe tbody tr th:only-of-type {\n",
       "        vertical-align: middle;\n",
       "    }\n",
       "\n",
       "    .dataframe tbody tr th {\n",
       "        vertical-align: top;\n",
       "    }\n",
       "\n",
       "    .dataframe thead th {\n",
       "        text-align: right;\n",
       "    }\n",
       "</style>\n",
       "<table border=\"1\" class=\"dataframe\">\n",
       "  <thead>\n",
       "    <tr style=\"text-align: right;\">\n",
       "      <th></th>\n",
       "      <th>count</th>\n",
       "      <th>mean</th>\n",
       "      <th>std</th>\n",
       "      <th>min</th>\n",
       "      <th>25%</th>\n",
       "      <th>50%</th>\n",
       "      <th>75%</th>\n",
       "      <th>max</th>\n",
       "    </tr>\n",
       "  </thead>\n",
       "  <tbody>\n",
       "    <tr>\n",
       "      <th>length</th>\n",
       "      <td>100.0</td>\n",
       "      <td>552.190000</td>\n",
       "      <td>506.741655</td>\n",
       "      <td>16.000000</td>\n",
       "      <td>251.500000</td>\n",
       "      <td>393.000000</td>\n",
       "      <td>651.250000</td>\n",
       "      <td>2624.000000</td>\n",
       "    </tr>\n",
       "    <tr>\n",
       "      <th>A</th>\n",
       "      <td>100.0</td>\n",
       "      <td>0.069425</td>\n",
       "      <td>0.028376</td>\n",
       "      <td>0.000000</td>\n",
       "      <td>0.049162</td>\n",
       "      <td>0.068247</td>\n",
       "      <td>0.084625</td>\n",
       "      <td>0.164977</td>\n",
       "    </tr>\n",
       "    <tr>\n",
       "      <th>C</th>\n",
       "      <td>100.0</td>\n",
       "      <td>0.023600</td>\n",
       "      <td>0.023046</td>\n",
       "      <td>0.000000</td>\n",
       "      <td>0.010568</td>\n",
       "      <td>0.019079</td>\n",
       "      <td>0.026857</td>\n",
       "      <td>0.139847</td>\n",
       "    </tr>\n",
       "    <tr>\n",
       "      <th>D</th>\n",
       "      <td>100.0</td>\n",
       "      <td>0.046845</td>\n",
       "      <td>0.016378</td>\n",
       "      <td>0.000000</td>\n",
       "      <td>0.037125</td>\n",
       "      <td>0.045602</td>\n",
       "      <td>0.056851</td>\n",
       "      <td>0.100358</td>\n",
       "    </tr>\n",
       "    <tr>\n",
       "      <th>E</th>\n",
       "      <td>100.0</td>\n",
       "      <td>0.065139</td>\n",
       "      <td>0.025273</td>\n",
       "      <td>0.013667</td>\n",
       "      <td>0.050252</td>\n",
       "      <td>0.062910</td>\n",
       "      <td>0.078612</td>\n",
       "      <td>0.148485</td>\n",
       "    </tr>\n",
       "    <tr>\n",
       "      <th>F</th>\n",
       "      <td>100.0</td>\n",
       "      <td>0.039738</td>\n",
       "      <td>0.021199</td>\n",
       "      <td>0.000000</td>\n",
       "      <td>0.023087</td>\n",
       "      <td>0.038680</td>\n",
       "      <td>0.053477</td>\n",
       "      <td>0.104348</td>\n",
       "    </tr>\n",
       "    <tr>\n",
       "      <th>G</th>\n",
       "      <td>100.0</td>\n",
       "      <td>0.069064</td>\n",
       "      <td>0.023779</td>\n",
       "      <td>0.000000</td>\n",
       "      <td>0.051096</td>\n",
       "      <td>0.067117</td>\n",
       "      <td>0.079861</td>\n",
       "      <td>0.142336</td>\n",
       "    </tr>\n",
       "    <tr>\n",
       "      <th>H</th>\n",
       "      <td>100.0</td>\n",
       "      <td>0.024910</td>\n",
       "      <td>0.011073</td>\n",
       "      <td>0.000000</td>\n",
       "      <td>0.018071</td>\n",
       "      <td>0.024264</td>\n",
       "      <td>0.031806</td>\n",
       "      <td>0.059259</td>\n",
       "    </tr>\n",
       "    <tr>\n",
       "      <th>I</th>\n",
       "      <td>100.0</td>\n",
       "      <td>0.046547</td>\n",
       "      <td>0.020702</td>\n",
       "      <td>0.006645</td>\n",
       "      <td>0.033545</td>\n",
       "      <td>0.045247</td>\n",
       "      <td>0.058729</td>\n",
       "      <td>0.113895</td>\n",
       "    </tr>\n",
       "    <tr>\n",
       "      <th>K</th>\n",
       "      <td>100.0</td>\n",
       "      <td>0.055267</td>\n",
       "      <td>0.023638</td>\n",
       "      <td>0.008696</td>\n",
       "      <td>0.039383</td>\n",
       "      <td>0.054300</td>\n",
       "      <td>0.071051</td>\n",
       "      <td>0.148936</td>\n",
       "    </tr>\n",
       "    <tr>\n",
       "      <th>L</th>\n",
       "      <td>100.0</td>\n",
       "      <td>0.101072</td>\n",
       "      <td>0.029533</td>\n",
       "      <td>0.034370</td>\n",
       "      <td>0.081076</td>\n",
       "      <td>0.101073</td>\n",
       "      <td>0.118244</td>\n",
       "      <td>0.191304</td>\n",
       "    </tr>\n",
       "    <tr>\n",
       "      <th>M</th>\n",
       "      <td>100.0</td>\n",
       "      <td>0.024307</td>\n",
       "      <td>0.016376</td>\n",
       "      <td>0.004505</td>\n",
       "      <td>0.015314</td>\n",
       "      <td>0.021506</td>\n",
       "      <td>0.028588</td>\n",
       "      <td>0.125000</td>\n",
       "    </tr>\n",
       "    <tr>\n",
       "      <th>N</th>\n",
       "      <td>100.0</td>\n",
       "      <td>0.033822</td>\n",
       "      <td>0.016334</td>\n",
       "      <td>0.000000</td>\n",
       "      <td>0.022842</td>\n",
       "      <td>0.032506</td>\n",
       "      <td>0.044890</td>\n",
       "      <td>0.080569</td>\n",
       "    </tr>\n",
       "    <tr>\n",
       "      <th>P</th>\n",
       "      <td>100.0</td>\n",
       "      <td>0.064427</td>\n",
       "      <td>0.030811</td>\n",
       "      <td>0.020168</td>\n",
       "      <td>0.043447</td>\n",
       "      <td>0.055097</td>\n",
       "      <td>0.079086</td>\n",
       "      <td>0.166094</td>\n",
       "    </tr>\n",
       "    <tr>\n",
       "      <th>Q</th>\n",
       "      <td>100.0</td>\n",
       "      <td>0.045318</td>\n",
       "      <td>0.017720</td>\n",
       "      <td>0.000000</td>\n",
       "      <td>0.034300</td>\n",
       "      <td>0.042787</td>\n",
       "      <td>0.052917</td>\n",
       "      <td>0.096774</td>\n",
       "    </tr>\n",
       "    <tr>\n",
       "      <th>R</th>\n",
       "      <td>100.0</td>\n",
       "      <td>0.057385</td>\n",
       "      <td>0.029489</td>\n",
       "      <td>0.000000</td>\n",
       "      <td>0.038881</td>\n",
       "      <td>0.053634</td>\n",
       "      <td>0.063070</td>\n",
       "      <td>0.187500</td>\n",
       "    </tr>\n",
       "    <tr>\n",
       "      <th>S</th>\n",
       "      <td>100.0</td>\n",
       "      <td>0.080013</td>\n",
       "      <td>0.031154</td>\n",
       "      <td>0.000000</td>\n",
       "      <td>0.062083</td>\n",
       "      <td>0.077164</td>\n",
       "      <td>0.094970</td>\n",
       "      <td>0.265139</td>\n",
       "    </tr>\n",
       "    <tr>\n",
       "      <th>T</th>\n",
       "      <td>100.0</td>\n",
       "      <td>0.049884</td>\n",
       "      <td>0.015840</td>\n",
       "      <td>0.000000</td>\n",
       "      <td>0.040045</td>\n",
       "      <td>0.050902</td>\n",
       "      <td>0.059098</td>\n",
       "      <td>0.087719</td>\n",
       "    </tr>\n",
       "    <tr>\n",
       "      <th>V</th>\n",
       "      <td>100.0</td>\n",
       "      <td>0.058732</td>\n",
       "      <td>0.020539</td>\n",
       "      <td>0.000000</td>\n",
       "      <td>0.044670</td>\n",
       "      <td>0.058310</td>\n",
       "      <td>0.071713</td>\n",
       "      <td>0.130435</td>\n",
       "    </tr>\n",
       "    <tr>\n",
       "      <th>W</th>\n",
       "      <td>100.0</td>\n",
       "      <td>0.014346</td>\n",
       "      <td>0.010234</td>\n",
       "      <td>0.000000</td>\n",
       "      <td>0.008396</td>\n",
       "      <td>0.012520</td>\n",
       "      <td>0.018333</td>\n",
       "      <td>0.062500</td>\n",
       "    </tr>\n",
       "    <tr>\n",
       "      <th>Y</th>\n",
       "      <td>100.0</td>\n",
       "      <td>0.030159</td>\n",
       "      <td>0.016864</td>\n",
       "      <td>0.003650</td>\n",
       "      <td>0.021448</td>\n",
       "      <td>0.027801</td>\n",
       "      <td>0.038478</td>\n",
       "      <td>0.125000</td>\n",
       "    </tr>\n",
       "  </tbody>\n",
       "</table>\n",
       "</div>"
      ],
      "text/plain": [
       "        count        mean         std        min         25%         50%  \\\n",
       "length  100.0  552.190000  506.741655  16.000000  251.500000  393.000000   \n",
       "A       100.0    0.069425    0.028376   0.000000    0.049162    0.068247   \n",
       "C       100.0    0.023600    0.023046   0.000000    0.010568    0.019079   \n",
       "D       100.0    0.046845    0.016378   0.000000    0.037125    0.045602   \n",
       "E       100.0    0.065139    0.025273   0.013667    0.050252    0.062910   \n",
       "F       100.0    0.039738    0.021199   0.000000    0.023087    0.038680   \n",
       "G       100.0    0.069064    0.023779   0.000000    0.051096    0.067117   \n",
       "H       100.0    0.024910    0.011073   0.000000    0.018071    0.024264   \n",
       "I       100.0    0.046547    0.020702   0.006645    0.033545    0.045247   \n",
       "K       100.0    0.055267    0.023638   0.008696    0.039383    0.054300   \n",
       "L       100.0    0.101072    0.029533   0.034370    0.081076    0.101073   \n",
       "M       100.0    0.024307    0.016376   0.004505    0.015314    0.021506   \n",
       "N       100.0    0.033822    0.016334   0.000000    0.022842    0.032506   \n",
       "P       100.0    0.064427    0.030811   0.020168    0.043447    0.055097   \n",
       "Q       100.0    0.045318    0.017720   0.000000    0.034300    0.042787   \n",
       "R       100.0    0.057385    0.029489   0.000000    0.038881    0.053634   \n",
       "S       100.0    0.080013    0.031154   0.000000    0.062083    0.077164   \n",
       "T       100.0    0.049884    0.015840   0.000000    0.040045    0.050902   \n",
       "V       100.0    0.058732    0.020539   0.000000    0.044670    0.058310   \n",
       "W       100.0    0.014346    0.010234   0.000000    0.008396    0.012520   \n",
       "Y       100.0    0.030159    0.016864   0.003650    0.021448    0.027801   \n",
       "\n",
       "               75%          max  \n",
       "length  651.250000  2624.000000  \n",
       "A         0.084625     0.164977  \n",
       "C         0.026857     0.139847  \n",
       "D         0.056851     0.100358  \n",
       "E         0.078612     0.148485  \n",
       "F         0.053477     0.104348  \n",
       "G         0.079861     0.142336  \n",
       "H         0.031806     0.059259  \n",
       "I         0.058729     0.113895  \n",
       "K         0.071051     0.148936  \n",
       "L         0.118244     0.191304  \n",
       "M         0.028588     0.125000  \n",
       "N         0.044890     0.080569  \n",
       "P         0.079086     0.166094  \n",
       "Q         0.052917     0.096774  \n",
       "R         0.063070     0.187500  \n",
       "S         0.094970     0.265139  \n",
       "T         0.059098     0.087719  \n",
       "V         0.071713     0.130435  \n",
       "W         0.018333     0.062500  \n",
       "Y         0.038478     0.125000  "
      ]
     },
     "execution_count": 58,
     "metadata": {},
     "output_type": "execute_result"
    }
   ],
   "source": [
    "aa_df.describe().T\n"
   ]
  },
  {
   "cell_type": "code",
   "execution_count": 59,
   "id": "08e94e83",
   "metadata": {},
   "outputs": [
    {
     "name": "stdout",
     "output_type": "stream",
     "text": [
      "Merged shape: (82404, 3)\n"
     ]
    },
    {
     "data": {
      "text/html": [
       "<div>\n",
       "<style scoped>\n",
       "    .dataframe tbody tr th:only-of-type {\n",
       "        vertical-align: middle;\n",
       "    }\n",
       "\n",
       "    .dataframe tbody tr th {\n",
       "        vertical-align: top;\n",
       "    }\n",
       "\n",
       "    .dataframe thead th {\n",
       "        text-align: right;\n",
       "    }\n",
       "</style>\n",
       "<table border=\"1\" class=\"dataframe\">\n",
       "  <thead>\n",
       "    <tr style=\"text-align: right;\">\n",
       "      <th></th>\n",
       "      <th>EntryID</th>\n",
       "      <th>SeqLength</th>\n",
       "      <th>GO_Count</th>\n",
       "    </tr>\n",
       "  </thead>\n",
       "  <tbody>\n",
       "    <tr>\n",
       "      <th>0</th>\n",
       "      <td>A0A0C5B5G6</td>\n",
       "      <td>16</td>\n",
       "      <td>14</td>\n",
       "    </tr>\n",
       "    <tr>\n",
       "      <th>1</th>\n",
       "      <td>A0JNW5</td>\n",
       "      <td>1464</td>\n",
       "      <td>8</td>\n",
       "    </tr>\n",
       "    <tr>\n",
       "      <th>2</th>\n",
       "      <td>A0JP26</td>\n",
       "      <td>581</td>\n",
       "      <td>1</td>\n",
       "    </tr>\n",
       "    <tr>\n",
       "      <th>3</th>\n",
       "      <td>A0PK11</td>\n",
       "      <td>232</td>\n",
       "      <td>2</td>\n",
       "    </tr>\n",
       "    <tr>\n",
       "      <th>4</th>\n",
       "      <td>A1A4S6</td>\n",
       "      <td>786</td>\n",
       "      <td>5</td>\n",
       "    </tr>\n",
       "  </tbody>\n",
       "</table>\n",
       "</div>"
      ],
      "text/plain": [
       "      EntryID  SeqLength  GO_Count\n",
       "0  A0A0C5B5G6         16        14\n",
       "1      A0JNW5       1464         8\n",
       "2      A0JP26        581         1\n",
       "3      A0PK11        232         2\n",
       "4      A1A4S6        786         5"
      ]
     },
     "execution_count": 59,
     "metadata": {},
     "output_type": "execute_result"
    }
   ],
   "source": [
    "# 1️⃣ Build a DataFrame for sequence lengths\n",
    "seq_data = []\n",
    "for record in SeqIO.parse(fasta_path, \"fasta\"):\n",
    "    seq_data.append({\"EntryID\": extract_uniprot_id(record.id), \"SeqLength\": len(record.seq)})\n",
    "\n",
    "seq_df = pd.DataFrame(seq_data)\n",
    "\n",
    "# 2️⃣ Convert GO counts to a DataFrame\n",
    "go_count_df = go_counts.reset_index()\n",
    "go_count_df.columns = [\"EntryID\", \"GO_Count\"]\n",
    "\n",
    "# 3️⃣ Merge them together\n",
    "merged_df = pd.merge(seq_df, go_count_df, on=\"EntryID\", how=\"inner\")\n",
    "\n",
    "print(\"Merged shape:\", merged_df.shape)\n",
    "merged_df.head()"
   ]
  },
  {
   "cell_type": "code",
   "execution_count": 60,
   "id": "e1390a70",
   "metadata": {},
   "outputs": [
    {
     "data": {
      "image/png": "[encoded data removed]",
      "text/plain": [
       "<Figure size 800x600 with 1 Axes>"
      ]
     },
     "metadata": {},
     "output_type": "display_data"
    }
   ],
   "source": [
    "plt.figure(figsize=(8,6))\n",
    "sns.scatterplot(x=\"SeqLength\", y=\"GO_Count\", data=merged_df, alpha=0.3)\n",
    "plt.xlabel(\"Protein Sequence Length (amino acids)\")\n",
    "plt.ylabel(\"Number of GO Terms\")\n",
    "plt.title(\"Relationship Between Sequence Length and Number of GO Terms\")\n",
    "plt.show()"
   ]
  },
  {
   "cell_type": "code",
   "execution_count": 61,
   "id": "81ab9257",
   "metadata": {},
   "outputs": [
    {
     "name": "stdout",
     "output_type": "stream",
     "text": [
      "Pearson correlation: 0.139\n",
      "Spearman correlation: 0.182\n"
     ]
    }
   ],
   "source": [
    "pearson_corr = merged_df[\"SeqLength\"].corr(merged_df[\"GO_Count\"], method=\"pearson\")\n",
    "spearman_corr = merged_df[\"SeqLength\"].corr(merged_df[\"GO_Count\"], method=\"spearman\")\n",
    "\n",
    "print(f\"Pearson correlation: {pearson_corr:.3f}\")\n",
    "print(f\"Spearman correlation: {spearman_corr:.3f}\")\n"
   ]
  },
  {
   "cell_type": "markdown",
   "id": "d207b748",
   "metadata": {},
   "source": [
    "- Longer proteins tend to have slightly more GO annotations, but the relationship is weak.\n",
    "\n",
    "- Most proteins are relatively short (a few hundred amino acids) and annotated with only a handful of GO terms.\n",
    "\n",
    "- Some large, multifunctional proteins (like chaperones or large enzymes) do have many GO terms, but they’re rare and not enough to produce a strong correlation.\n",
    "\n",
    "- The small positive Spearman correlation suggests that as sequence length increases, the rank of GO term count also tends to increase slightly — consistent with multi-domain or complex proteins having more diverse functions."
   ]
  },
  {
   "cell_type": "markdown",
   "id": "c08cf8ab",
   "metadata": {},
   "source": [
    "# Gene Ontology Analysis"
   ]
  },
  {
   "cell_type": "markdown",
   "id": "6ebb2ca9",
   "metadata": {},
   "source": []
  },
  {
   "cell_type": "code",
   "execution_count": 55,
   "id": "a4f43180",
   "metadata": {},
   "outputs": [
    {
     "name": "stdout",
     "output_type": "stream",
     "text": [
      "./cafa-6-protein-function-prediction/Train/go-basic.obo: fmt(1.2) rel(2025-06-01) 43,448 Terms\n",
      "Number of GO terms parsed: 43448\n"
     ]
    }
   ],
   "source": [
    "go = GODag(os.path.join(TRAIN_DIR, \"go-basic.obo\"))\n",
    "print(f\"Number of GO terms parsed: {len(go)}\")\n"
   ]
  },
  {
   "cell_type": "code",
   "execution_count": 62,
   "id": "8a44e70c",
   "metadata": {},
   "outputs": [
    {
     "data": {
      "text/plain": [
       "Counter({'biological_process': 27975,\n",
       "         'molecular_function': 11204,\n",
       "         'cellular_component': 4269})"
      ]
     },
     "execution_count": 62,
     "metadata": {},
     "output_type": "execute_result"
    }
   ],
   "source": [
    "# Count categories (BP, MF, CC)\n",
    "from collections import Counter\n",
    "aspect_counts = Counter(term.namespace for term in go.values())\n",
    "aspect_counts"
   ]
  }
 ],
 "metadata": {
  "kernelspec": {
   "display_name": "base",
   "language": "python",
   "name": "python3"
  },
  "language_info": {
   "codemirror_mode": {
    "name": "ipython",
    "version": 3
   },
   "file_extension": ".py",
   "mimetype": "text/x-python",
   "name": "python",
   "nbconvert_exporter": "python",
   "pygments_lexer": "ipython3",
   "version": "3.12.2"
  }
 },
 "nbformat": 4,
 "nbformat_minor": 5
}
